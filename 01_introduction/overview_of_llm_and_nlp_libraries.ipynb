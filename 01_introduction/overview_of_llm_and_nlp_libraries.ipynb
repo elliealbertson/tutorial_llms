{
 "cells": [
  {
   "cell_type": "markdown",
   "metadata": {},
   "source": [
    "# Overview of LLM and NLP Libraries"
   ]
  },
  {
   "cell_type": "markdown",
   "metadata": {},
   "source": [
    "Work in progress."
   ]
  },
  {
   "cell_type": "markdown",
   "metadata": {},
   "source": [
    "## Contents\n",
    "* [AlpacaFarm](#alpacafarm)\n",
    "* [Chainlit](#chainlit)\n",
    "* [Embedchain](#embedchain)\n",
    "* [Flax](#flax)\n",
    "* [Gensim](#gensim)\n",
    "* [GGML](#ggml)\n",
    "* [Google AI](#googleai)\n",
    "* [Haystack](#haystack)\n",
    "* [Hugging Face](#huggingface)\n",
    "* [Lamini](#lamini)\n",
    "* [LangChain](#langchain)\n",
    "* [LiteLLM](#litellm)\n",
    "* [LlamaIndex](#llamaindex)\n",
    "* [MLC LLM](#mlcllm)\n",
    "* [NLTK](#nltk)\n",
    "* [OpenAI](#openai)\n",
    "* [Pattern](#pattern)\n",
    "* [Polyglot](#polyglot)\n",
    "* [Promptify](#promptify)\n",
    "* [PromptBench](#promptbench)\n",
    "* [spaCy](#spacy)\n",
    "* [TextBlob](#textblob)\n",
    "* [Unstructured](#unstructured)"
   ]
  },
  {
   "cell_type": "markdown",
   "metadata": {},
   "source": [
    "## AlpacaFarm <a class=\"anchor\" id=\"alpacafarm\"></a>"
   ]
  },
  {
   "cell_type": "markdown",
   "metadata": {},
   "source": [
    "[AlpacaFarm Website](https://github.com/tatsu-lab/alpaca_farm/)"
   ]
  },
  {
   "cell_type": "code",
   "execution_count": null,
   "metadata": {},
   "outputs": [],
   "source": [
    "pip install alpaca-farm"
   ]
  },
  {
   "cell_type": "markdown",
   "metadata": {},
   "source": [
    "## Chainlit <a class=\"anchor\" id=\"chainlit\"></a>"
   ]
  },
  {
   "cell_type": "markdown",
   "metadata": {},
   "source": [
    "[Chainlit Website](https://github.com/Chainlit/chainlit)"
   ]
  },
  {
   "cell_type": "code",
   "execution_count": null,
   "metadata": {},
   "outputs": [],
   "source": [
    "pip install chainlit"
   ]
  },
  {
   "cell_type": "markdown",
   "metadata": {},
   "source": [
    "## Embedchain <a class=\"anchor\" id=\"embedchain\"></a>"
   ]
  },
  {
   "cell_type": "markdown",
   "metadata": {},
   "source": [
    "[Embedchain Website](https://embedchain.ai/)"
   ]
  },
  {
   "cell_type": "code",
   "execution_count": 3,
   "metadata": {},
   "outputs": [
    {
     "name": "stdout",
     "output_type": "stream",
     "text": [
      "Defaulting to user installation because normal site-packages is not writeable\n",
      "Collecting embedchain\n",
      "  Downloading embedchain-0.1.115-py3-none-any.whl.metadata (10 kB)\n",
      "Collecting alembic<2.0.0,>=1.13.1 (from embedchain)\n",
      "  Downloading alembic-1.13.2-py3-none-any.whl.metadata (7.4 kB)\n",
      "Requirement already satisfied: beautifulsoup4<5.0.0,>=4.12.2 in /Users/ellie/Library/Python/3.9/lib/python/site-packages (from embedchain) (4.12.2)\n",
      "Collecting chromadb<0.5.0,>=0.4.24 (from embedchain)\n",
      "  Downloading chromadb-0.4.24-py3-none-any.whl.metadata (7.3 kB)\n",
      "Collecting clarifai<11.0.0,>=10.0.1 (from embedchain)\n",
      "  Downloading clarifai-10.5.3-py3-none-any.whl.metadata (19 kB)\n",
      "Collecting cohere<6.0,>=5.3 (from embedchain)\n",
      "  Downloading cohere-5.5.8-py3-none-any.whl.metadata (3.3 kB)\n",
      "Collecting google-cloud-aiplatform<2.0.0,>=1.26.1 (from embedchain)\n",
      "  Downloading google_cloud_aiplatform-1.58.0-py2.py3-none-any.whl.metadata (31 kB)\n",
      "Collecting gptcache<0.2.0,>=0.1.43 (from embedchain)\n",
      "  Downloading gptcache-0.1.43-py3-none-any.whl.metadata (24 kB)\n",
      "Collecting langchain<=0.3,>0.2 (from embedchain)\n",
      "  Downloading langchain-0.2.6-py3-none-any.whl.metadata (7.0 kB)\n",
      "Collecting langchain-cohere<0.2.0,>=0.1.4 (from embedchain)\n",
      "  Downloading langchain_cohere-0.1.8-py3-none-any.whl.metadata (6.4 kB)\n",
      "Collecting langchain-community<0.3.0,>=0.2.6 (from embedchain)\n",
      "  Downloading langchain_community-0.2.6-py3-none-any.whl.metadata (2.5 kB)\n",
      "Collecting langchain-openai<0.2.0,>=0.1.7 (from embedchain)\n",
      "  Downloading langchain_openai-0.1.14-py3-none-any.whl.metadata (2.5 kB)\n",
      "Requirement already satisfied: openai>=1.1.1 in /Users/ellie/Library/Python/3.9/lib/python/site-packages (from embedchain) (1.35.10)\n",
      "Collecting posthog<4.0.0,>=3.0.2 (from embedchain)\n",
      "  Downloading posthog-3.5.0-py2.py3-none-any.whl.metadata (2.0 kB)\n",
      "Collecting pypdf<5.0.0,>=4.0.1 (from embedchain)\n",
      "  Downloading pypdf-4.2.0-py3-none-any.whl.metadata (7.4 kB)\n",
      "Collecting pysbd<0.4.0,>=0.3.4 (from embedchain)\n",
      "  Downloading pysbd-0.3.4-py3-none-any.whl.metadata (6.1 kB)\n",
      "Requirement already satisfied: python-dotenv<2.0.0,>=1.0.0 in /Users/ellie/Library/Python/3.9/lib/python/site-packages (from embedchain) (1.0.1)\n",
      "Requirement already satisfied: rich<14.0.0,>=13.7.0 in /Users/ellie/Library/Python/3.9/lib/python/site-packages (from embedchain) (13.7.0)\n",
      "Collecting schema<0.8.0,>=0.7.5 (from embedchain)\n",
      "  Downloading schema-0.7.7-py2.py3-none-any.whl.metadata (34 kB)\n",
      "Collecting sqlalchemy<3.0.0,>=2.0.27 (from embedchain)\n",
      "  Downloading SQLAlchemy-2.0.31-cp39-cp39-macosx_11_0_arm64.whl.metadata (9.6 kB)\n",
      "Requirement already satisfied: tiktoken<0.8.0,>=0.7.0 in /Users/ellie/Library/Python/3.9/lib/python/site-packages (from embedchain) (0.7.0)\n",
      "Collecting Mako (from alembic<2.0.0,>=1.13.1->embedchain)\n",
      "  Downloading Mako-1.3.5-py3-none-any.whl.metadata (2.9 kB)\n",
      "Requirement already satisfied: typing-extensions>=4 in /Users/ellie/Library/Python/3.9/lib/python/site-packages (from alembic<2.0.0,>=1.13.1->embedchain) (4.9.0)\n",
      "Requirement already satisfied: soupsieve>1.2 in /Users/ellie/Library/Python/3.9/lib/python/site-packages (from beautifulsoup4<5.0.0,>=4.12.2->embedchain) (2.5)\n",
      "Collecting build>=1.0.3 (from chromadb<0.5.0,>=0.4.24->embedchain)\n",
      "  Downloading build-1.2.1-py3-none-any.whl.metadata (4.3 kB)\n",
      "Requirement already satisfied: requests>=2.28 in /Users/ellie/Library/Python/3.9/lib/python/site-packages (from chromadb<0.5.0,>=0.4.24->embedchain) (2.31.0)\n",
      "Requirement already satisfied: pydantic>=1.9 in /Users/ellie/Library/Python/3.9/lib/python/site-packages (from chromadb<0.5.0,>=0.4.24->embedchain) (2.5.2)\n",
      "Collecting chroma-hnswlib==0.7.3 (from chromadb<0.5.0,>=0.4.24->embedchain)\n",
      "  Downloading chroma_hnswlib-0.7.3-cp39-cp39-macosx_11_0_arm64.whl.metadata (252 bytes)\n",
      "Requirement already satisfied: fastapi>=0.95.2 in /Users/ellie/Library/Python/3.9/lib/python/site-packages (from chromadb<0.5.0,>=0.4.24->embedchain) (0.110.3)\n",
      "Requirement already satisfied: uvicorn>=0.18.3 in /Users/ellie/Library/Python/3.9/lib/python/site-packages (from uvicorn[standard]>=0.18.3->chromadb<0.5.0,>=0.4.24->embedchain) (0.25.0)\n",
      "Requirement already satisfied: numpy>=1.22.5 in /Users/ellie/Library/Python/3.9/lib/python/site-packages (from chromadb<0.5.0,>=0.4.24->embedchain) (1.26.4)\n",
      "Collecting pulsar-client>=3.1.0 (from chromadb<0.5.0,>=0.4.24->embedchain)\n",
      "  Downloading pulsar_client-3.5.0-cp39-cp39-macosx_10_15_universal2.whl.metadata (1.1 kB)\n",
      "Collecting onnxruntime>=1.14.1 (from chromadb<0.5.0,>=0.4.24->embedchain)\n",
      "  Downloading onnxruntime-1.18.1-cp39-cp39-macosx_11_0_universal2.whl.metadata (4.3 kB)\n",
      "Requirement already satisfied: opentelemetry-api>=1.2.0 in /Users/ellie/Library/Python/3.9/lib/python/site-packages (from chromadb<0.5.0,>=0.4.24->embedchain) (1.25.0)\n",
      "Requirement already satisfied: opentelemetry-exporter-otlp-proto-grpc>=1.2.0 in /Users/ellie/Library/Python/3.9/lib/python/site-packages (from chromadb<0.5.0,>=0.4.24->embedchain) (1.25.0)\n",
      "Collecting opentelemetry-instrumentation-fastapi>=0.41b0 (from chromadb<0.5.0,>=0.4.24->embedchain)\n",
      "  Downloading opentelemetry_instrumentation_fastapi-0.46b0-py3-none-any.whl.metadata (2.0 kB)\n",
      "Requirement already satisfied: opentelemetry-sdk>=1.2.0 in /Users/ellie/Library/Python/3.9/lib/python/site-packages (from chromadb<0.5.0,>=0.4.24->embedchain) (1.25.0)\n",
      "Requirement already satisfied: tokenizers>=0.13.2 in /Users/ellie/Library/Python/3.9/lib/python/site-packages (from chromadb<0.5.0,>=0.4.24->embedchain) (0.13.3)\n",
      "Collecting pypika>=0.48.9 (from chromadb<0.5.0,>=0.4.24->embedchain)\n",
      "  Downloading PyPika-0.48.9.tar.gz (67 kB)\n",
      "\u001b[2K     \u001b[90m━━━━━━━━━━━━━━━━━━━━━━━━━━━━━━━━━━━━━━━━\u001b[0m \u001b[32m67.3/67.3 kB\u001b[0m \u001b[31m4.8 MB/s\u001b[0m eta \u001b[36m0:00:00\u001b[0m\n",
      "\u001b[?25h  Installing build dependencies ... \u001b[?25ldone\n",
      "\u001b[?25h  Getting requirements to build wheel ... \u001b[?25ldone\n",
      "\u001b[?25h  Preparing metadata (pyproject.toml) ... \u001b[?25ldone\n",
      "\u001b[?25hRequirement already satisfied: tqdm>=4.65.0 in /Users/ellie/Library/Python/3.9/lib/python/site-packages (from chromadb<0.5.0,>=0.4.24->embedchain) (4.65.0)\n",
      "Requirement already satisfied: overrides>=7.3.1 in /Users/ellie/Library/Python/3.9/lib/python/site-packages (from chromadb<0.5.0,>=0.4.24->embedchain) (7.4.0)\n",
      "Requirement already satisfied: importlib-resources in /Users/ellie/Library/Python/3.9/lib/python/site-packages (from chromadb<0.5.0,>=0.4.24->embedchain) (6.0.0)\n",
      "Collecting grpcio>=1.58.0 (from chromadb<0.5.0,>=0.4.24->embedchain)\n",
      "  Downloading grpcio-1.64.1-cp39-cp39-macosx_10_9_universal2.whl.metadata (3.3 kB)\n",
      "Collecting bcrypt>=4.0.1 (from chromadb<0.5.0,>=0.4.24->embedchain)\n",
      "  Downloading bcrypt-4.1.3-cp39-abi3-macosx_10_12_universal2.whl.metadata (9.5 kB)\n",
      "Requirement already satisfied: typer>=0.9.0 in /Users/ellie/Library/Python/3.9/lib/python/site-packages (from chromadb<0.5.0,>=0.4.24->embedchain) (0.9.0)\n",
      "Collecting kubernetes>=28.1.0 (from chromadb<0.5.0,>=0.4.24->embedchain)\n",
      "  Downloading kubernetes-30.1.0-py2.py3-none-any.whl.metadata (1.5 kB)\n",
      "Requirement already satisfied: tenacity>=8.2.3 in /Users/ellie/Library/Python/3.9/lib/python/site-packages (from chromadb<0.5.0,>=0.4.24->embedchain) (8.2.3)\n",
      "Requirement already satisfied: PyYAML>=6.0.0 in /Users/ellie/Library/Python/3.9/lib/python/site-packages (from chromadb<0.5.0,>=0.4.24->embedchain) (6.0.1)\n",
      "Collecting mmh3>=4.0.1 (from chromadb<0.5.0,>=0.4.24->embedchain)\n",
      "  Downloading mmh3-4.1.0-cp39-cp39-macosx_11_0_arm64.whl.metadata (13 kB)\n",
      "Collecting orjson>=3.9.12 (from chromadb<0.5.0,>=0.4.24->embedchain)\n",
      "  Downloading orjson-3.10.6-cp39-cp39-macosx_10_15_x86_64.macosx_11_0_arm64.macosx_10_15_universal2.whl.metadata (50 kB)\n",
      "\u001b[2K     \u001b[90m━━━━━━━━━━━━━━━━━━━━━━━━━━━━━━━━━━━━━━━━\u001b[0m \u001b[32m50.4/50.4 kB\u001b[0m \u001b[31m5.2 MB/s\u001b[0m eta \u001b[36m0:00:00\u001b[0m\n",
      "\u001b[?25hCollecting clarifai-grpc>=10.5.0 (from clarifai<11.0.0,>=10.0.1->embedchain)\n",
      "  Downloading clarifai_grpc-10.6.0-py3-none-any.whl.metadata (4.1 kB)\n",
      "Collecting tritonclient>=2.34.0 (from clarifai<11.0.0,>=10.0.1->embedchain)\n",
      "  Downloading tritonclient-2.47.0-py3-none-any.whl.metadata (2.8 kB)\n",
      "Collecting schema<0.8.0,>=0.7.5 (from embedchain)\n",
      "  Downloading schema-0.7.5-py2.py3-none-any.whl.metadata (34 kB)\n",
      "Requirement already satisfied: Pillow>=9.5.0 in /Users/ellie/Library/Python/3.9/lib/python/site-packages (from clarifai<11.0.0,>=10.0.1->embedchain) (10.0.0)\n",
      "Collecting inquirerpy==0.3.4 (from clarifai<11.0.0,>=10.0.1->embedchain)\n",
      "  Downloading InquirerPy-0.3.4-py3-none-any.whl.metadata (8.1 kB)\n",
      "Requirement already satisfied: tabulate>=0.9.0 in /Users/ellie/Library/Python/3.9/lib/python/site-packages (from clarifai<11.0.0,>=10.0.1->embedchain) (0.9.0)\n",
      "Collecting contextlib2>=0.5.5 (from schema<0.8.0,>=0.7.5->embedchain)\n",
      "  Downloading contextlib2-21.6.0-py2.py3-none-any.whl.metadata (4.1 kB)\n",
      "Collecting pfzy<0.4.0,>=0.3.1 (from inquirerpy==0.3.4->clarifai<11.0.0,>=10.0.1->embedchain)\n",
      "  Downloading pfzy-0.3.4-py3-none-any.whl.metadata (4.9 kB)\n",
      "Requirement already satisfied: prompt-toolkit<4.0.0,>=3.0.1 in /Users/ellie/Library/Python/3.9/lib/python/site-packages (from inquirerpy==0.3.4->clarifai<11.0.0,>=10.0.1->embedchain) (3.0.39)\n",
      "Collecting boto3<2.0.0,>=1.34.0 (from cohere<6.0,>=5.3->embedchain)\n",
      "  Downloading boto3-1.34.139-py3-none-any.whl.metadata (6.6 kB)\n",
      "Collecting fastavro<2.0.0,>=1.9.4 (from cohere<6.0,>=5.3->embedchain)\n",
      "  Downloading fastavro-1.9.4.tar.gz (985 kB)\n",
      "\u001b[2K     \u001b[90m━━━━━━━━━━━━━━━━━━━━━━━━━━━━━━━━━━━━━━\u001b[0m \u001b[32m985.9/985.9 kB\u001b[0m \u001b[31m11.8 MB/s\u001b[0m eta \u001b[36m0:00:00\u001b[0m00:01\u001b[0m00:01\u001b[0m\n",
      "\u001b[?25h  Installing build dependencies ... \u001b[?25ldone\n",
      "\u001b[?25h  Getting requirements to build wheel ... \u001b[?25ldone\n",
      "\u001b[?25h  Preparing metadata (pyproject.toml) ... \u001b[?25ldone\n",
      "\u001b[?25hRequirement already satisfied: httpx>=0.21.2 in /Users/ellie/Library/Python/3.9/lib/python/site-packages (from cohere<6.0,>=5.3->embedchain) (0.25.2)\n",
      "Collecting httpx-sse<0.5.0,>=0.4.0 (from cohere<6.0,>=5.3->embedchain)\n",
      "  Downloading httpx_sse-0.4.0-py3-none-any.whl.metadata (9.0 kB)\n",
      "Collecting parameterized<0.10.0,>=0.9.0 (from cohere<6.0,>=5.3->embedchain)\n",
      "  Downloading parameterized-0.9.0-py2.py3-none-any.whl.metadata (18 kB)\n",
      "Collecting tokenizers>=0.13.2 (from chromadb<0.5.0,>=0.4.24->embedchain)\n",
      "  Downloading tokenizers-0.19.1-cp39-cp39-macosx_11_0_arm64.whl.metadata (6.7 kB)\n",
      "Collecting types-requests<3.0.0,>=2.0.0 (from cohere<6.0,>=5.3->embedchain)\n",
      "  Downloading types_requests-2.32.0.20240622-py3-none-any.whl.metadata (1.8 kB)\n",
      "Requirement already satisfied: google-api-core!=2.0.*,!=2.1.*,!=2.2.*,!=2.3.*,!=2.4.*,!=2.5.*,!=2.6.*,!=2.7.*,<3.0.0dev,>=1.34.1 in /Users/ellie/Library/Python/3.9/lib/python/site-packages (from google-api-core[grpc]!=2.0.*,!=2.1.*,!=2.2.*,!=2.3.*,!=2.4.*,!=2.5.*,!=2.6.*,!=2.7.*,<3.0.0dev,>=1.34.1->google-cloud-aiplatform<2.0.0,>=1.26.1->embedchain) (2.15.0)\n",
      "Requirement already satisfied: google-auth<3.0.0dev,>=2.14.1 in /Users/ellie/Library/Python/3.9/lib/python/site-packages (from google-cloud-aiplatform<2.0.0,>=1.26.1->embedchain) (2.22.0)\n",
      "Collecting proto-plus<2.0.0dev,>=1.22.0 (from google-cloud-aiplatform<2.0.0,>=1.26.1->embedchain)\n",
      "  Using cached proto_plus-1.24.0-py3-none-any.whl.metadata (2.2 kB)\n",
      "Requirement already satisfied: protobuf!=3.20.0,!=3.20.1,!=4.21.0,!=4.21.1,!=4.21.2,!=4.21.3,!=4.21.4,!=4.21.5,<5.0.0dev,>=3.19.5 in /Users/ellie/Library/Python/3.9/lib/python/site-packages (from google-cloud-aiplatform<2.0.0,>=1.26.1->embedchain) (4.23.4)\n",
      "Requirement already satisfied: packaging>=14.3 in /Users/ellie/Library/Python/3.9/lib/python/site-packages (from google-cloud-aiplatform<2.0.0,>=1.26.1->embedchain) (23.1)\n",
      "Collecting google-cloud-storage<3.0.0dev,>=1.32.0 (from google-cloud-aiplatform<2.0.0,>=1.26.1->embedchain)\n",
      "  Downloading google_cloud_storage-2.17.0-py2.py3-none-any.whl.metadata (6.6 kB)\n",
      "Collecting google-cloud-bigquery!=3.20.0,<4.0.0dev,>=1.15.0 (from google-cloud-aiplatform<2.0.0,>=1.26.1->embedchain)\n",
      "  Downloading google_cloud_bigquery-3.25.0-py2.py3-none-any.whl.metadata (8.9 kB)\n",
      "Collecting google-cloud-resource-manager<3.0.0dev,>=1.3.3 (from google-cloud-aiplatform<2.0.0,>=1.26.1->embedchain)\n",
      "  Downloading google_cloud_resource_manager-1.12.3-py2.py3-none-any.whl.metadata (5.3 kB)\n",
      "Requirement already satisfied: shapely<3.0.0dev in /Users/ellie/Library/Python/3.9/lib/python/site-packages (from google-cloud-aiplatform<2.0.0,>=1.26.1->embedchain) (2.0.2)\n",
      "Collecting docstring-parser<1 (from google-cloud-aiplatform<2.0.0,>=1.26.1->embedchain)\n",
      "  Downloading docstring_parser-0.16-py3-none-any.whl.metadata (3.0 kB)\n",
      "Requirement already satisfied: cachetools in /Users/ellie/Library/Python/3.9/lib/python/site-packages (from gptcache<0.2.0,>=0.1.43->embedchain) (5.3.1)\n",
      "Requirement already satisfied: aiohttp<4.0.0,>=3.8.3 in /Users/ellie/Library/Python/3.9/lib/python/site-packages (from langchain<=0.3,>0.2->embedchain) (3.8.6)\n",
      "Requirement already satisfied: async-timeout<5.0.0,>=4.0.0 in /Users/ellie/Library/Python/3.9/lib/python/site-packages (from langchain<=0.3,>0.2->embedchain) (4.0.3)\n",
      "Collecting langchain-core<0.3.0,>=0.2.10 (from langchain<=0.3,>0.2->embedchain)\n",
      "  Downloading langchain_core-0.2.11-py3-none-any.whl.metadata (6.0 kB)\n",
      "Collecting langchain-text-splitters<0.3.0,>=0.2.0 (from langchain<=0.3,>0.2->embedchain)\n",
      "  Downloading langchain_text_splitters-0.2.2-py3-none-any.whl.metadata (2.1 kB)\n",
      "Collecting langsmith<0.2.0,>=0.1.17 (from langchain<=0.3,>0.2->embedchain)\n",
      "  Downloading langsmith-0.1.83-py3-none-any.whl.metadata (13 kB)\n",
      "Requirement already satisfied: dataclasses-json<0.7,>=0.5.7 in /Users/ellie/Library/Python/3.9/lib/python/site-packages (from langchain-community<0.3.0,>=0.2.6->embedchain) (0.5.14)\n",
      "Requirement already satisfied: anyio<5,>=3.5.0 in /Users/ellie/Library/Python/3.9/lib/python/site-packages (from openai>=1.1.1->embedchain) (3.7.1)\n",
      "Requirement already satisfied: distro<2,>=1.7.0 in /Users/ellie/Library/Python/3.9/lib/python/site-packages (from openai>=1.1.1->embedchain) (1.9.0)\n",
      "Requirement already satisfied: sniffio in /Users/ellie/Library/Python/3.9/lib/python/site-packages (from openai>=1.1.1->embedchain) (1.3.0)\n",
      "Requirement already satisfied: six>=1.5 in /Library/Developer/CommandLineTools/Library/Frameworks/Python3.framework/Versions/3.9/lib/python3.9/site-packages (from posthog<4.0.0,>=3.0.2->embedchain) (1.15.0)\n",
      "Collecting monotonic>=1.5 (from posthog<4.0.0,>=3.0.2->embedchain)\n",
      "  Downloading monotonic-1.6-py2.py3-none-any.whl.metadata (1.5 kB)\n",
      "Collecting backoff>=1.10.0 (from posthog<4.0.0,>=3.0.2->embedchain)\n",
      "  Downloading backoff-2.2.1-py3-none-any.whl.metadata (14 kB)\n",
      "Requirement already satisfied: python-dateutil>2.1 in /Users/ellie/Library/Python/3.9/lib/python/site-packages (from posthog<4.0.0,>=3.0.2->embedchain) (2.8.2)\n",
      "Requirement already satisfied: markdown-it-py>=2.2.0 in /Users/ellie/Library/Python/3.9/lib/python/site-packages (from rich<14.0.0,>=13.7.0->embedchain) (3.0.0)\n",
      "Requirement already satisfied: pygments<3.0.0,>=2.13.0 in /Users/ellie/Library/Python/3.9/lib/python/site-packages (from rich<14.0.0,>=13.7.0->embedchain) (2.15.1)\n",
      "Requirement already satisfied: regex>=2022.1.18 in /Users/ellie/Library/Python/3.9/lib/python/site-packages (from tiktoken<0.8.0,>=0.7.0->embedchain) (2023.6.3)\n",
      "Requirement already satisfied: attrs>=17.3.0 in /Users/ellie/Library/Python/3.9/lib/python/site-packages (from aiohttp<4.0.0,>=3.8.3->langchain<=0.3,>0.2->embedchain) (23.1.0)\n",
      "Requirement already satisfied: charset-normalizer<4.0,>=2.0 in /Users/ellie/Library/Python/3.9/lib/python/site-packages (from aiohttp<4.0.0,>=3.8.3->langchain<=0.3,>0.2->embedchain) (3.2.0)\n",
      "Requirement already satisfied: multidict<7.0,>=4.5 in /Users/ellie/Library/Python/3.9/lib/python/site-packages (from aiohttp<4.0.0,>=3.8.3->langchain<=0.3,>0.2->embedchain) (6.0.4)\n",
      "Requirement already satisfied: yarl<2.0,>=1.0 in /Users/ellie/Library/Python/3.9/lib/python/site-packages (from aiohttp<4.0.0,>=3.8.3->langchain<=0.3,>0.2->embedchain) (1.9.2)\n",
      "Requirement already satisfied: frozenlist>=1.1.1 in /Users/ellie/Library/Python/3.9/lib/python/site-packages (from aiohttp<4.0.0,>=3.8.3->langchain<=0.3,>0.2->embedchain) (1.4.0)\n",
      "Requirement already satisfied: aiosignal>=1.1.2 in /Users/ellie/Library/Python/3.9/lib/python/site-packages (from aiohttp<4.0.0,>=3.8.3->langchain<=0.3,>0.2->embedchain) (1.3.1)\n",
      "Requirement already satisfied: idna>=2.8 in /Users/ellie/Library/Python/3.9/lib/python/site-packages (from anyio<5,>=3.5.0->openai>=1.1.1->embedchain) (3.4)\n",
      "Requirement already satisfied: exceptiongroup in /Users/ellie/Library/Python/3.9/lib/python/site-packages (from anyio<5,>=3.5.0->openai>=1.1.1->embedchain) (1.1.3)\n",
      "Collecting botocore<1.35.0,>=1.34.139 (from boto3<2.0.0,>=1.34.0->cohere<6.0,>=5.3->embedchain)\n",
      "  Downloading botocore-1.34.139-py3-none-any.whl.metadata (5.7 kB)\n",
      "Collecting jmespath<2.0.0,>=0.7.1 (from boto3<2.0.0,>=1.34.0->cohere<6.0,>=5.3->embedchain)\n",
      "  Downloading jmespath-1.0.1-py3-none-any.whl.metadata (7.6 kB)\n",
      "Collecting s3transfer<0.11.0,>=0.10.0 (from boto3<2.0.0,>=1.34.0->cohere<6.0,>=5.3->embedchain)\n",
      "  Downloading s3transfer-0.10.2-py3-none-any.whl.metadata (1.7 kB)\n",
      "Collecting pyproject_hooks (from build>=1.0.3->chromadb<0.5.0,>=0.4.24->embedchain)\n",
      "  Downloading pyproject_hooks-1.1.0-py3-none-any.whl.metadata (1.3 kB)\n",
      "Requirement already satisfied: importlib-metadata>=4.6 in /Users/ellie/Library/Python/3.9/lib/python/site-packages (from build>=1.0.3->chromadb<0.5.0,>=0.4.24->embedchain) (6.8.0)\n",
      "Requirement already satisfied: tomli>=1.1.0 in /Users/ellie/Library/Python/3.9/lib/python/site-packages (from build>=1.0.3->chromadb<0.5.0,>=0.4.24->embedchain) (2.0.1)\n",
      "Requirement already satisfied: googleapis-common-protos>=1.53.0 in /Users/ellie/Library/Python/3.9/lib/python/site-packages (from clarifai-grpc>=10.5.0->clarifai<11.0.0,>=10.0.1->embedchain) (1.62.0)\n",
      "Requirement already satisfied: marshmallow<4.0.0,>=3.18.0 in /Users/ellie/Library/Python/3.9/lib/python/site-packages (from dataclasses-json<0.7,>=0.5.7->langchain-community<0.3.0,>=0.2.6->embedchain) (3.20.1)\n",
      "Requirement already satisfied: typing-inspect<1,>=0.4.0 in /Users/ellie/Library/Python/3.9/lib/python/site-packages (from dataclasses-json<0.7,>=0.5.7->langchain-community<0.3.0,>=0.2.6->embedchain) (0.9.0)\n",
      "Requirement already satisfied: starlette<0.38.0,>=0.37.2 in /Users/ellie/Library/Python/3.9/lib/python/site-packages (from fastapi>=0.95.2->chromadb<0.5.0,>=0.4.24->embedchain) (0.37.2)\n",
      "Collecting grpcio-status<2.0.dev0,>=1.33.2 (from google-api-core[grpc]!=2.0.*,!=2.1.*,!=2.2.*,!=2.3.*,!=2.4.*,!=2.5.*,!=2.6.*,!=2.7.*,<3.0.0dev,>=1.34.1->google-cloud-aiplatform<2.0.0,>=1.26.1->embedchain)\n",
      "  Downloading grpcio_status-1.64.1-py3-none-any.whl.metadata (1.1 kB)\n",
      "Requirement already satisfied: pyasn1-modules>=0.2.1 in /Users/ellie/Library/Python/3.9/lib/python/site-packages (from google-auth<3.0.0dev,>=2.14.1->google-cloud-aiplatform<2.0.0,>=1.26.1->embedchain) (0.3.0)\n",
      "Requirement already satisfied: rsa<5,>=3.1.4 in /Users/ellie/Library/Python/3.9/lib/python/site-packages (from google-auth<3.0.0dev,>=2.14.1->google-cloud-aiplatform<2.0.0,>=1.26.1->embedchain) (4.9)\n",
      "Requirement already satisfied: urllib3<2.0 in /Users/ellie/Library/Python/3.9/lib/python/site-packages (from google-auth<3.0.0dev,>=2.14.1->google-cloud-aiplatform<2.0.0,>=1.26.1->embedchain) (1.26.16)\n",
      "Collecting google-cloud-core<3.0.0dev,>=1.6.0 (from google-cloud-bigquery!=3.20.0,<4.0.0dev,>=1.15.0->google-cloud-aiplatform<2.0.0,>=1.26.1->embedchain)\n",
      "  Downloading google_cloud_core-2.4.1-py2.py3-none-any.whl.metadata (2.7 kB)\n",
      "Collecting google-resumable-media<3.0dev,>=0.6.0 (from google-cloud-bigquery!=3.20.0,<4.0.0dev,>=1.15.0->google-cloud-aiplatform<2.0.0,>=1.26.1->embedchain)\n",
      "  Downloading google_resumable_media-2.7.1-py2.py3-none-any.whl.metadata (2.2 kB)\n",
      "Collecting grpc-google-iam-v1<1.0.0dev,>=0.12.4 (from google-cloud-resource-manager<3.0.0dev,>=1.3.3->google-cloud-aiplatform<2.0.0,>=1.26.1->embedchain)\n",
      "  Downloading grpc_google_iam_v1-0.13.1-py2.py3-none-any.whl.metadata (3.3 kB)\n",
      "Collecting google-auth<3.0.0dev,>=2.14.1 (from google-cloud-aiplatform<2.0.0,>=1.26.1->embedchain)\n",
      "  Downloading google_auth-2.31.0-py2.py3-none-any.whl.metadata (4.7 kB)\n",
      "Collecting google-crc32c<2.0dev,>=1.0 (from google-cloud-storage<3.0.0dev,>=1.32.0->google-cloud-aiplatform<2.0.0,>=1.26.1->embedchain)\n",
      "  Downloading google_crc32c-1.5.0-cp39-cp39-macosx_10_9_universal2.whl.metadata (2.3 kB)\n",
      "Requirement already satisfied: certifi in /Users/ellie/Library/Python/3.9/lib/python/site-packages (from httpx>=0.21.2->cohere<6.0,>=5.3->embedchain) (2023.5.7)\n",
      "Requirement already satisfied: httpcore==1.* in /Users/ellie/Library/Python/3.9/lib/python/site-packages (from httpx>=0.21.2->cohere<6.0,>=5.3->embedchain) (1.0.2)\n",
      "Requirement already satisfied: h11<0.15,>=0.13 in /Users/ellie/Library/Python/3.9/lib/python/site-packages (from httpcore==1.*->httpx>=0.21.2->cohere<6.0,>=5.3->embedchain) (0.14.0)\n",
      "Requirement already satisfied: websocket-client!=0.40.0,!=0.41.*,!=0.42.*,>=0.32.0 in /Users/ellie/Library/Python/3.9/lib/python/site-packages (from kubernetes>=28.1.0->chromadb<0.5.0,>=0.4.24->embedchain) (1.6.4)\n",
      "Requirement already satisfied: requests-oauthlib in /Users/ellie/Library/Python/3.9/lib/python/site-packages (from kubernetes>=28.1.0->chromadb<0.5.0,>=0.4.24->embedchain) (1.3.1)\n",
      "Requirement already satisfied: oauthlib>=3.2.2 in /Users/ellie/Library/Python/3.9/lib/python/site-packages (from kubernetes>=28.1.0->chromadb<0.5.0,>=0.4.24->embedchain) (3.2.2)\n",
      "Collecting jsonpatch<2.0,>=1.33 (from langchain-core<0.3.0,>=0.2.10->langchain<=0.3,>0.2->embedchain)\n",
      "  Downloading jsonpatch-1.33-py2.py3-none-any.whl.metadata (3.0 kB)\n",
      "Collecting packaging>=14.3 (from google-cloud-aiplatform<2.0.0,>=1.26.1->embedchain)\n",
      "  Downloading packaging-24.1-py3-none-any.whl.metadata (3.2 kB)\n",
      "Requirement already satisfied: mdurl~=0.1 in /Users/ellie/Library/Python/3.9/lib/python/site-packages (from markdown-it-py>=2.2.0->rich<14.0.0,>=13.7.0->embedchain) (0.1.2)\n",
      "Collecting coloredlogs (from onnxruntime>=1.14.1->chromadb<0.5.0,>=0.4.24->embedchain)\n",
      "  Downloading coloredlogs-15.0.1-py2.py3-none-any.whl.metadata (12 kB)\n",
      "Requirement already satisfied: flatbuffers in /Users/ellie/Library/Python/3.9/lib/python/site-packages (from onnxruntime>=1.14.1->chromadb<0.5.0,>=0.4.24->embedchain) (23.5.26)\n",
      "Requirement already satisfied: sympy in /Users/ellie/Library/Python/3.9/lib/python/site-packages (from onnxruntime>=1.14.1->chromadb<0.5.0,>=0.4.24->embedchain) (1.12)\n",
      "Requirement already satisfied: deprecated>=1.2.6 in /Users/ellie/Library/Python/3.9/lib/python/site-packages (from opentelemetry-api>=1.2.0->chromadb<0.5.0,>=0.4.24->embedchain) (1.2.14)\n",
      "Requirement already satisfied: opentelemetry-exporter-otlp-proto-common==1.25.0 in /Users/ellie/Library/Python/3.9/lib/python/site-packages (from opentelemetry-exporter-otlp-proto-grpc>=1.2.0->chromadb<0.5.0,>=0.4.24->embedchain) (1.25.0)\n",
      "Requirement already satisfied: opentelemetry-proto==1.25.0 in /Users/ellie/Library/Python/3.9/lib/python/site-packages (from opentelemetry-exporter-otlp-proto-grpc>=1.2.0->chromadb<0.5.0,>=0.4.24->embedchain) (1.25.0)\n",
      "Collecting opentelemetry-instrumentation-asgi==0.46b0 (from opentelemetry-instrumentation-fastapi>=0.41b0->chromadb<0.5.0,>=0.4.24->embedchain)\n",
      "  Downloading opentelemetry_instrumentation_asgi-0.46b0-py3-none-any.whl.metadata (1.9 kB)\n",
      "Requirement already satisfied: opentelemetry-instrumentation==0.46b0 in /Users/ellie/Library/Python/3.9/lib/python/site-packages (from opentelemetry-instrumentation-fastapi>=0.41b0->chromadb<0.5.0,>=0.4.24->embedchain) (0.46b0)\n",
      "Requirement already satisfied: opentelemetry-semantic-conventions==0.46b0 in /Users/ellie/Library/Python/3.9/lib/python/site-packages (from opentelemetry-instrumentation-fastapi>=0.41b0->chromadb<0.5.0,>=0.4.24->embedchain) (0.46b0)\n",
      "Collecting opentelemetry-util-http==0.46b0 (from opentelemetry-instrumentation-fastapi>=0.41b0->chromadb<0.5.0,>=0.4.24->embedchain)\n",
      "  Downloading opentelemetry_util_http-0.46b0-py3-none-any.whl.metadata (2.4 kB)\n",
      "Requirement already satisfied: setuptools>=16.0 in /Library/Developer/CommandLineTools/Library/Frameworks/Python3.framework/Versions/3.9/lib/python3.9/site-packages (from opentelemetry-instrumentation==0.46b0->opentelemetry-instrumentation-fastapi>=0.41b0->chromadb<0.5.0,>=0.4.24->embedchain) (58.0.4)\n",
      "Requirement already satisfied: wrapt<2.0.0,>=1.0.0 in /Users/ellie/Library/Python/3.9/lib/python/site-packages (from opentelemetry-instrumentation==0.46b0->opentelemetry-instrumentation-fastapi>=0.41b0->chromadb<0.5.0,>=0.4.24->embedchain) (1.16.0)\n",
      "Collecting asgiref~=3.0 (from opentelemetry-instrumentation-asgi==0.46b0->opentelemetry-instrumentation-fastapi>=0.41b0->chromadb<0.5.0,>=0.4.24->embedchain)\n",
      "  Downloading asgiref-3.8.1-py3-none-any.whl.metadata (9.3 kB)\n",
      "Requirement already satisfied: annotated-types>=0.4.0 in /Users/ellie/Library/Python/3.9/lib/python/site-packages (from pydantic>=1.9->chromadb<0.5.0,>=0.4.24->embedchain) (0.6.0)\n",
      "Requirement already satisfied: pydantic-core==2.14.5 in /Users/ellie/Library/Python/3.9/lib/python/site-packages (from pydantic>=1.9->chromadb<0.5.0,>=0.4.24->embedchain) (2.14.5)\n",
      "Requirement already satisfied: huggingface-hub<1.0,>=0.16.4 in /Users/ellie/Library/Python/3.9/lib/python/site-packages (from tokenizers>=0.13.2->chromadb<0.5.0,>=0.4.24->embedchain) (0.19.4)\n",
      "Collecting python-rapidjson>=0.9.1 (from tritonclient>=2.34.0->clarifai<11.0.0,>=10.0.1->embedchain)\n",
      "  Downloading python_rapidjson-1.18-cp39-cp39-macosx_11_0_arm64.whl.metadata (22 kB)\n",
      "Collecting urllib3>=1.24.2 (from kubernetes>=28.1.0->chromadb<0.5.0,>=0.4.24->embedchain)\n",
      "  Downloading urllib3-2.2.2-py3-none-any.whl.metadata (6.4 kB)\n",
      "Requirement already satisfied: click<9.0.0,>=7.1.1 in /Users/ellie/Library/Python/3.9/lib/python/site-packages (from typer>=0.9.0->chromadb<0.5.0,>=0.4.24->embedchain) (8.1.7)\n",
      "Collecting httptools>=0.5.0 (from uvicorn[standard]>=0.18.3->chromadb<0.5.0,>=0.4.24->embedchain)\n",
      "  Downloading httptools-0.6.1-cp39-cp39-macosx_10_9_universal2.whl.metadata (3.6 kB)\n",
      "Collecting uvloop!=0.15.0,!=0.15.1,>=0.14.0 (from uvicorn[standard]>=0.18.3->chromadb<0.5.0,>=0.4.24->embedchain)\n",
      "  Downloading uvloop-0.19.0-cp39-cp39-macosx_10_9_universal2.whl.metadata (4.9 kB)\n",
      "Requirement already satisfied: watchfiles>=0.13 in /Users/ellie/Library/Python/3.9/lib/python/site-packages (from uvicorn[standard]>=0.18.3->chromadb<0.5.0,>=0.4.24->embedchain) (0.20.0)\n",
      "Requirement already satisfied: websockets>=10.4 in /Users/ellie/Library/Python/3.9/lib/python/site-packages (from uvicorn[standard]>=0.18.3->chromadb<0.5.0,>=0.4.24->embedchain) (11.0.3)\n",
      "Requirement already satisfied: zipp>=3.1.0 in /Users/ellie/Library/Python/3.9/lib/python/site-packages (from importlib-resources->chromadb<0.5.0,>=0.4.24->embedchain) (3.16.2)\n",
      "Requirement already satisfied: MarkupSafe>=0.9.2 in /Users/ellie/Library/Python/3.9/lib/python/site-packages (from Mako->alembic<2.0.0,>=1.13.1->embedchain) (2.1.3)\n",
      "INFO: pip is looking at multiple versions of botocore to determine which version is compatible with other requirements. This could take a while.\n",
      "Collecting types-requests<3.0.0,>=2.0.0 (from cohere<6.0,>=5.3->embedchain)\n",
      "  Downloading types_requests-2.32.0.20240602-py3-none-any.whl.metadata (1.8 kB)\n",
      "  Downloading types_requests-2.32.0.20240523-py3-none-any.whl.metadata (1.8 kB)\n",
      "  Downloading types_requests-2.32.0.20240521-py3-none-any.whl.metadata (1.8 kB)\n",
      "  Downloading types_requests-2.31.0.20240406-py3-none-any.whl.metadata (1.8 kB)\n",
      "  Downloading types_requests-2.31.0.20240403-py3-none-any.whl.metadata (1.8 kB)\n",
      "  Downloading types_requests-2.31.0.20240402-py3-none-any.whl.metadata (1.8 kB)\n",
      "  Downloading types_requests-2.31.0.20240311-py3-none-any.whl.metadata (1.8 kB)\n",
      "INFO: pip is still looking at multiple versions of botocore to determine which version is compatible with other requirements. This could take a while.\n",
      "  Downloading types_requests-2.31.0.20240310-py3-none-any.whl.metadata (1.8 kB)\n",
      "  Downloading types_requests-2.31.0.20240218-py3-none-any.whl.metadata (1.8 kB)\n",
      "  Downloading types_requests-2.31.0.20240125-py3-none-any.whl.metadata (1.8 kB)\n",
      "  Downloading types_requests-2.31.0.20240106-py3-none-any.whl.metadata (1.8 kB)\n",
      "  Downloading types_requests-2.31.0.20231231-py3-none-any.whl.metadata (1.8 kB)\n",
      "INFO: This is taking longer than usual. You might need to provide the dependency resolver with stricter constraints to reduce runtime. See https://pip.pypa.io/warnings/backtracking for guidance. If you want to abort this run, press Ctrl + C.\n",
      "  Downloading types_requests-2.31.0.10-py3-none-any.whl.metadata (1.8 kB)\n",
      "  Downloading types_requests-2.31.0.9-py3-none-any.whl.metadata (1.8 kB)\n",
      "  Downloading types_requests-2.31.0.8-py3-none-any.whl.metadata (1.6 kB)\n",
      "  Downloading types_requests-2.31.0.7-py3-none-any.whl.metadata (1.4 kB)\n",
      "  Downloading types_requests-2.31.0.6-py3-none-any.whl.metadata (1.4 kB)\n",
      "Collecting types-urllib3 (from types-requests<3.0.0,>=2.0.0->cohere<6.0,>=5.3->embedchain)\n",
      "  Downloading types_urllib3-1.26.25.14-py3-none-any.whl.metadata (1.7 kB)\n",
      "Collecting tritonclient>=2.34.0 (from clarifai<11.0.0,>=10.0.1->embedchain)\n",
      "  Downloading tritonclient-2.46.0-py3-none-any.whl.metadata (2.8 kB)\n",
      "  Downloading tritonclient-2.45.0-py3-none-any.whl.metadata (2.8 kB)\n",
      "  Downloading tritonclient-2.44.0-py3-none-any.whl.metadata (2.8 kB)\n",
      "  Downloading tritonclient-2.43.0-py3-none-any.whl.metadata (2.8 kB)\n",
      "  Downloading tritonclient-2.42.0-py3-none-any.whl.metadata (2.8 kB)\n",
      "  Downloading tritonclient-2.41.1-py3-none-any.whl.metadata (2.8 kB)\n",
      "INFO: pip is looking at multiple versions of types-requests to determine which version is compatible with other requirements. This could take a while.\n",
      "INFO: pip is still looking at multiple versions of types-requests to determine which version is compatible with other requirements. This could take a while.\n",
      "INFO: This is taking longer than usual. You might need to provide the dependency resolver with stricter constraints to reduce runtime. See https://pip.pypa.io/warnings/backtracking for guidance. If you want to abort this run, press Ctrl + C.\n",
      "INFO: pip is looking at multiple versions of grpcio-status to determine which version is compatible with other requirements. This could take a while.\n",
      "Collecting grpcio-status<2.0.dev0,>=1.33.2 (from google-api-core[grpc]!=2.0.*,!=2.1.*,!=2.2.*,!=2.3.*,!=2.4.*,!=2.5.*,!=2.6.*,!=2.7.*,<3.0.0dev,>=1.34.1->google-cloud-aiplatform<2.0.0,>=1.26.1->embedchain)\n",
      "  Downloading grpcio_status-1.64.0-py3-none-any.whl.metadata (1.1 kB)\n",
      "  Downloading grpcio_status-1.63.0-py3-none-any.whl.metadata (1.1 kB)\n",
      "  Downloading grpcio_status-1.62.2-py3-none-any.whl.metadata (1.3 kB)\n",
      "Requirement already satisfied: filelock in /Users/ellie/Library/Python/3.9/lib/python/site-packages (from huggingface-hub<1.0,>=0.16.4->tokenizers>=0.13.2->chromadb<0.5.0,>=0.4.24->embedchain) (3.12.2)\n",
      "Requirement already satisfied: fsspec>=2023.5.0 in /Users/ellie/Library/Python/3.9/lib/python/site-packages (from huggingface-hub<1.0,>=0.16.4->tokenizers>=0.13.2->chromadb<0.5.0,>=0.4.24->embedchain) (2023.6.0)\n",
      "Requirement already satisfied: jsonpointer>=1.9 in /Users/ellie/Library/Python/3.9/lib/python/site-packages (from jsonpatch<2.0,>=1.33->langchain-core<0.3.0,>=0.2.10->langchain<=0.3,>0.2->embedchain) (2.4)\n",
      "Requirement already satisfied: wcwidth in /Users/ellie/Library/Python/3.9/lib/python/site-packages (from prompt-toolkit<4.0.0,>=3.0.1->inquirerpy==0.3.4->clarifai<11.0.0,>=10.0.1->embedchain) (0.2.6)\n",
      "Requirement already satisfied: pyasn1<0.6.0,>=0.4.6 in /Users/ellie/Library/Python/3.9/lib/python/site-packages (from pyasn1-modules>=0.2.1->google-auth<3.0.0dev,>=2.14.1->google-cloud-aiplatform<2.0.0,>=1.26.1->embedchain) (0.5.0)\n",
      "Requirement already satisfied: mypy-extensions>=0.3.0 in /Users/ellie/Library/Python/3.9/lib/python/site-packages (from typing-inspect<1,>=0.4.0->dataclasses-json<0.7,>=0.5.7->langchain-community<0.3.0,>=0.2.6->embedchain) (1.0.0)\n",
      "Collecting humanfriendly>=9.1 (from coloredlogs->onnxruntime>=1.14.1->chromadb<0.5.0,>=0.4.24->embedchain)\n",
      "  Downloading humanfriendly-10.0-py2.py3-none-any.whl.metadata (9.2 kB)\n",
      "Requirement already satisfied: mpmath>=0.19 in /Users/ellie/Library/Python/3.9/lib/python/site-packages (from sympy->onnxruntime>=1.14.1->chromadb<0.5.0,>=0.4.24->embedchain) (1.3.0)\n",
      "Downloading embedchain-0.1.115-py3-none-any.whl (206 kB)\n",
      "\u001b[2K   \u001b[90m━━━━━━━━━━━━━━━━━━━━━━━━━━━━━━━━━━━━━━━━\u001b[0m \u001b[32m206.8/206.8 kB\u001b[0m \u001b[31m13.0 MB/s\u001b[0m eta \u001b[36m0:00:00\u001b[0m\n",
      "\u001b[?25hDownloading alembic-1.13.2-py3-none-any.whl (232 kB)\n",
      "\u001b[2K   \u001b[90m━━━━━━━━━━━━━━━━━━━━━━━━━━━━━━━━━━━━━━━━\u001b[0m \u001b[32m233.0/233.0 kB\u001b[0m \u001b[31m11.2 MB/s\u001b[0m eta \u001b[36m0:00:00\u001b[0m\n",
      "\u001b[?25hDownloading chromadb-0.4.24-py3-none-any.whl (525 kB)\n",
      "\u001b[2K   \u001b[90m━━━━━━━━━━━━━━━━━━━━━━━━━━━━━━━━━━━━━━━━\u001b[0m \u001b[32m525.5/525.5 kB\u001b[0m \u001b[31m3.7 MB/s\u001b[0m eta \u001b[36m0:00:00\u001b[0mta \u001b[36m0:00:01\u001b[0m\n",
      "\u001b[?25hDownloading chroma_hnswlib-0.7.3-cp39-cp39-macosx_11_0_arm64.whl (197 kB)\n",
      "\u001b[2K   \u001b[90m━━━━━━━━━━━━━━━━━━━━━━━━━━━━━━━━━━━━━━━━\u001b[0m \u001b[32m197.2/197.2 kB\u001b[0m \u001b[31m8.4 MB/s\u001b[0m eta \u001b[36m0:00:00\u001b[0m\n",
      "\u001b[?25hDownloading clarifai-10.5.3-py3-none-any.whl (339 kB)\n",
      "\u001b[2K   \u001b[90m━━━━━━━━━━━━━━━━━━━━━━━━━━━━━━━━━━━━━━━━\u001b[0m \u001b[32m339.5/339.5 kB\u001b[0m \u001b[31m8.7 MB/s\u001b[0m eta \u001b[36m0:00:00\u001b[0m:00:01\u001b[0m\n",
      "\u001b[?25hDownloading schema-0.7.5-py2.py3-none-any.whl (17 kB)\n",
      "Downloading InquirerPy-0.3.4-py3-none-any.whl (67 kB)\n",
      "\u001b[2K   \u001b[90m━━━━━━━━━━━━━━━━━━━━━━━━━━━━━━━━━━━━━━━━\u001b[0m \u001b[32m67.7/67.7 kB\u001b[0m \u001b[31m5.8 MB/s\u001b[0m eta \u001b[36m0:00:00\u001b[0m\n",
      "\u001b[?25hDownloading cohere-5.5.8-py3-none-any.whl (173 kB)\n",
      "\u001b[2K   \u001b[90m━━━━━━━━━━━━━━━━━━━━━━━━━━━━━━━━━━━━━━━━\u001b[0m \u001b[32m173.8/173.8 kB\u001b[0m \u001b[31m11.0 MB/s\u001b[0m eta \u001b[36m0:00:00\u001b[0m\n",
      "\u001b[?25hDownloading google_cloud_aiplatform-1.58.0-py2.py3-none-any.whl (5.1 MB)\n",
      "\u001b[2K   \u001b[90m━━━━━━━━━━━━━━━━━━━━━━━━━━━━━━━━━━━━━━━━\u001b[0m \u001b[32m5.1/5.1 MB\u001b[0m \u001b[31m9.0 MB/s\u001b[0m eta \u001b[36m0:00:00\u001b[0m00:01\u001b[0m00:01\u001b[0mm\n",
      "\u001b[?25hDownloading gptcache-0.1.43-py3-none-any.whl (131 kB)\n",
      "\u001b[2K   \u001b[90m━━━━━━━━━━━━━━━━━━━━━━━━━━━━━━━━━━━━━━━━\u001b[0m \u001b[32m131.5/131.5 kB\u001b[0m \u001b[31m7.3 MB/s\u001b[0m eta \u001b[36m0:00:00\u001b[0m\n",
      "\u001b[?25hDownloading langchain-0.2.6-py3-none-any.whl (975 kB)\n",
      "\u001b[2K   \u001b[90m━━━━━━━━━━━━━━━━━━━━━━━━━━━━━━━━━━━━━━━━\u001b[0m \u001b[32m975.5/975.5 kB\u001b[0m \u001b[31m9.2 MB/s\u001b[0m eta \u001b[36m0:00:00\u001b[0ma \u001b[36m0:00:01\u001b[0mm\n",
      "\u001b[?25hDownloading langchain_cohere-0.1.8-py3-none-any.whl (31 kB)\n",
      "Downloading langchain_community-0.2.6-py3-none-any.whl (2.2 MB)\n",
      "\u001b[2K   \u001b[90m━━━━━━━━━━━━━━━━━━━━━━━━━━━━━━━━━━━━━━━━\u001b[0m \u001b[32m2.2/2.2 MB\u001b[0m \u001b[31m9.9 MB/s\u001b[0m eta \u001b[36m0:00:00\u001b[0mta \u001b[36m0:00:01\u001b[0m\n",
      "\u001b[?25hDownloading langchain_openai-0.1.14-py3-none-any.whl (45 kB)\n",
      "\u001b[2K   \u001b[90m━━━━━━━━━━━━━━━━━━━━━━━━━━━━━━━━━━━━━━━━\u001b[0m \u001b[32m45.9/45.9 kB\u001b[0m \u001b[31m4.6 MB/s\u001b[0m eta \u001b[36m0:00:00\u001b[0m\n",
      "\u001b[?25hDownloading posthog-3.5.0-py2.py3-none-any.whl (41 kB)\n",
      "\u001b[2K   \u001b[90m━━━━━━━━━━━━━━━━━━━━━━━━━━━━━━━━━━━━━━━━\u001b[0m \u001b[32m41.3/41.3 kB\u001b[0m \u001b[31m3.4 MB/s\u001b[0m eta \u001b[36m0:00:00\u001b[0m\n",
      "\u001b[?25hDownloading pypdf-4.2.0-py3-none-any.whl (290 kB)\n",
      "\u001b[2K   \u001b[90m━━━━━━━━━━━━━━━━━━━━━━━━━━━━━━━━━━━━━━━━\u001b[0m \u001b[32m290.4/290.4 kB\u001b[0m \u001b[31m10.1 MB/s\u001b[0m eta \u001b[36m0:00:00\u001b[0m\n",
      "\u001b[?25hDownloading pysbd-0.3.4-py3-none-any.whl (71 kB)\n",
      "\u001b[2K   \u001b[90m━━━━━━━━━━━━━━━━━━━━━━━━━━━━━━━━━━━━━━━━\u001b[0m \u001b[32m71.1/71.1 kB\u001b[0m \u001b[31m6.1 MB/s\u001b[0m eta \u001b[36m0:00:00\u001b[0m\n",
      "\u001b[?25hDownloading SQLAlchemy-2.0.31-cp39-cp39-macosx_11_0_arm64.whl (2.1 MB)\n",
      "\u001b[2K   \u001b[90m━━━━━━━━━━━━━━━━━━━━━━━━━━━━━━━━━━━━━━━━\u001b[0m \u001b[32m2.1/2.1 MB\u001b[0m \u001b[31m6.8 MB/s\u001b[0m eta \u001b[36m0:00:00\u001b[0m00:01\u001b[0m00:01\u001b[0mm\n",
      "\u001b[?25hDownloading backoff-2.2.1-py3-none-any.whl (15 kB)\n",
      "Downloading bcrypt-4.1.3-cp39-abi3-macosx_10_12_universal2.whl (506 kB)\n",
      "\u001b[2K   \u001b[90m━━━━━━━━━━━━━━━━━━━━━━━━━━━━━━━━━━━━━━━━\u001b[0m \u001b[32m506.5/506.5 kB\u001b[0m \u001b[31m9.2 MB/s\u001b[0m eta \u001b[36m0:00:00\u001b[0mta \u001b[36m0:00:01\u001b[0m\n",
      "\u001b[?25hDownloading boto3-1.34.139-py3-none-any.whl (139 kB)\n",
      "\u001b[2K   \u001b[90m━━━━━━━━━━━━━━━━━━━━━━━━━━━━━━━━━━━━━━━━\u001b[0m \u001b[32m139.2/139.2 kB\u001b[0m \u001b[31m8.6 MB/s\u001b[0m eta \u001b[36m0:00:00\u001b[0m\n",
      "\u001b[?25hDownloading build-1.2.1-py3-none-any.whl (21 kB)\n",
      "Downloading clarifai_grpc-10.6.0-py3-none-any.whl (246 kB)\n",
      "\u001b[2K   \u001b[90m━━━━━━━━━━━━━━━━━━━━━━━━━━━━━━━━━━━━━━━━\u001b[0m \u001b[32m246.9/246.9 kB\u001b[0m \u001b[31m9.4 MB/s\u001b[0m eta \u001b[36m0:00:00\u001b[0m\n",
      "\u001b[?25hDownloading contextlib2-21.6.0-py2.py3-none-any.whl (13 kB)\n",
      "Downloading docstring_parser-0.16-py3-none-any.whl (36 kB)\n",
      "Downloading google_cloud_bigquery-3.25.0-py2.py3-none-any.whl (239 kB)\n",
      "\u001b[2K   \u001b[90m━━━━━━━━━━━━━━━━━━━━━━━━━━━━━━━━━━━━━━━━\u001b[0m \u001b[32m239.0/239.0 kB\u001b[0m \u001b[31m6.9 MB/s\u001b[0m eta \u001b[36m0:00:00\u001b[0m\n",
      "\u001b[?25hDownloading google_cloud_resource_manager-1.12.3-py2.py3-none-any.whl (333 kB)\n",
      "\u001b[2K   \u001b[90m━━━━━━━━━━━━━━━━━━━━━━━━━━━━━━━━━━━━━━━━\u001b[0m \u001b[32m333.7/333.7 kB\u001b[0m \u001b[31m9.0 MB/s\u001b[0m eta \u001b[36m0:00:00\u001b[0m\n",
      "\u001b[?25hDownloading google_cloud_storage-2.17.0-py2.py3-none-any.whl (126 kB)\n",
      "\u001b[2K   \u001b[90m━━━━━━━━━━━━━━━━━━━━━━━━━━━━━━━━━━━━━━━━\u001b[0m \u001b[32m126.5/126.5 kB\u001b[0m \u001b[31m6.9 MB/s\u001b[0m eta \u001b[36m0:00:00\u001b[0m\n",
      "\u001b[?25hDownloading google_auth-2.31.0-py2.py3-none-any.whl (194 kB)\n",
      "\u001b[2K   \u001b[90m━━━━━━━━━━━━━━━━━━━━━━━━━━━━━━━━━━━━━━━━\u001b[0m \u001b[32m194.6/194.6 kB\u001b[0m \u001b[31m6.1 MB/s\u001b[0m eta \u001b[36m0:00:00\u001b[0m\n",
      "\u001b[?25hDownloading grpcio-1.64.1-cp39-cp39-macosx_10_9_universal2.whl (10.4 MB)\n",
      "\u001b[2K   \u001b[90m━━━━━━━━━━━━━━━━━━━━━━━━━━━━━━━━━━━━━━━━\u001b[0m \u001b[32m10.4/10.4 MB\u001b[0m \u001b[31m6.1 MB/s\u001b[0m eta \u001b[36m0:00:00\u001b[0m00:01\u001b[0m00:01\u001b[0m\n",
      "\u001b[?25hDownloading httpx_sse-0.4.0-py3-none-any.whl (7.8 kB)\n",
      "Downloading kubernetes-30.1.0-py2.py3-none-any.whl (1.7 MB)\n",
      "\u001b[2K   \u001b[90m━━━━━━━━━━━━━━━━━━━━━━━━━━━━━━━━━━━━━━━━\u001b[0m \u001b[32m1.7/1.7 MB\u001b[0m \u001b[31m4.8 MB/s\u001b[0m eta \u001b[36m0:00:00\u001b[0ma \u001b[36m0:00:01\u001b[0m\n",
      "\u001b[?25hDownloading langchain_core-0.2.11-py3-none-any.whl (337 kB)\n",
      "\u001b[2K   \u001b[90m━━━━━━━━━━━━━━━━━━━━━━━━━━━━━━━━━━━━━━━━\u001b[0m \u001b[32m337.4/337.4 kB\u001b[0m \u001b[31m6.9 MB/s\u001b[0m eta \u001b[36m0:00:00\u001b[0ma \u001b[36m0:00:01\u001b[0m\n",
      "\u001b[?25hDownloading langchain_text_splitters-0.2.2-py3-none-any.whl (25 kB)\n",
      "Downloading langsmith-0.1.83-py3-none-any.whl (127 kB)\n",
      "\u001b[2K   \u001b[90m━━━━━━━━━━━━━━━━━━━━━━━━━━━━━━━━━━━━━━━━\u001b[0m \u001b[32m127.5/127.5 kB\u001b[0m \u001b[31m5.6 MB/s\u001b[0m eta \u001b[36m0:00:00\u001b[0m\n",
      "\u001b[?25hDownloading mmh3-4.1.0-cp39-cp39-macosx_11_0_arm64.whl (30 kB)\n",
      "Downloading monotonic-1.6-py2.py3-none-any.whl (8.2 kB)\n",
      "Downloading onnxruntime-1.18.1-cp39-cp39-macosx_11_0_universal2.whl (15.9 MB)\n",
      "\u001b[2K   \u001b[90m━━━━━━━━━━━━━━━━━━━━━━━━━━━━━━━━━━━━━━━━\u001b[0m \u001b[32m15.9/15.9 MB\u001b[0m \u001b[31m5.5 MB/s\u001b[0m eta \u001b[36m0:00:00\u001b[0m00:01\u001b[0m00:01\u001b[0m\n",
      "\u001b[?25hDownloading opentelemetry_instrumentation_fastapi-0.46b0-py3-none-any.whl (11 kB)\n",
      "Downloading opentelemetry_instrumentation_asgi-0.46b0-py3-none-any.whl (14 kB)\n",
      "Downloading opentelemetry_util_http-0.46b0-py3-none-any.whl (6.9 kB)\n",
      "Downloading orjson-3.10.6-cp39-cp39-macosx_10_15_x86_64.macosx_11_0_arm64.macosx_10_15_universal2.whl (250 kB)\n",
      "\u001b[2K   \u001b[90m━━━━━━━━━━━━━━━━━━━━━━━━━━━━━━━━━━━━━━━━\u001b[0m \u001b[32m250.2/250.2 kB\u001b[0m \u001b[31m2.0 MB/s\u001b[0m eta \u001b[36m0:00:00\u001b[0m00:01\u001b[0m00:01\u001b[0m\n",
      "\u001b[?25hDownloading packaging-24.1-py3-none-any.whl (53 kB)\n",
      "\u001b[2K   \u001b[90m━━━━━━━━━━━━━━━━━━━━━━━━━━━━━━━━━━━━━━━━\u001b[0m \u001b[32m54.0/54.0 kB\u001b[0m \u001b[31m2.9 MB/s\u001b[0m eta \u001b[36m0:00:00\u001b[0m\n",
      "\u001b[?25hDownloading parameterized-0.9.0-py2.py3-none-any.whl (20 kB)\n",
      "Using cached proto_plus-1.24.0-py3-none-any.whl (50 kB)\n",
      "Downloading pulsar_client-3.5.0-cp39-cp39-macosx_10_15_universal2.whl (11.0 MB)\n",
      "\u001b[2K   \u001b[90m━━━━━━━━━━━━━━━━━━━━━━━━━━━━━━━━━━━━━━━━\u001b[0m \u001b[32m11.0/11.0 MB\u001b[0m \u001b[31m6.7 MB/s\u001b[0m eta \u001b[36m0:00:00\u001b[0m00:01\u001b[0m00:01\u001b[0m\n",
      "\u001b[?25hDownloading tokenizers-0.19.1-cp39-cp39-macosx_11_0_arm64.whl (2.4 MB)\n",
      "\u001b[2K   \u001b[90m━━━━━━━━━━━━━━━━━━━━━━━━━━━━━━━━━━━━━━━━\u001b[0m \u001b[32m2.4/2.4 MB\u001b[0m \u001b[31m5.4 MB/s\u001b[0m eta \u001b[36m0:00:00\u001b[0m00:01\u001b[0m00:01\u001b[0m\n",
      "\u001b[?25hDownloading tritonclient-2.41.1-py3-none-any.whl (101 kB)\n",
      "\u001b[2K   \u001b[90m━━━━━━━━━━━━━━━━━━━━━━━━━━━━━━━━━━━━━━━━\u001b[0m \u001b[32m101.3/101.3 kB\u001b[0m \u001b[31m5.8 MB/s\u001b[0m eta \u001b[36m0:00:00\u001b[0m\n",
      "\u001b[?25hDownloading botocore-1.34.139-py3-none-any.whl (12.4 MB)\n",
      "\u001b[2K   \u001b[90m━━━━━━━━━━━━━━━━━━━━━━━━━━━━━━━━━━━━━━━━\u001b[0m \u001b[32m12.4/12.4 MB\u001b[0m \u001b[31m4.9 MB/s\u001b[0m eta \u001b[36m0:00:00\u001b[0m00:01\u001b[0m00:01\u001b[0m\n",
      "\u001b[?25hDownloading types_requests-2.31.0.6-py3-none-any.whl (14 kB)\n",
      "Downloading Mako-1.3.5-py3-none-any.whl (78 kB)\n",
      "\u001b[2K   \u001b[90m━━━━━━━━━━━━━━━━━━━━━━━━━━━━━━━━━━━━━━━━\u001b[0m \u001b[32m78.6/78.6 kB\u001b[0m \u001b[31m5.7 MB/s\u001b[0m eta \u001b[36m0:00:00\u001b[0m\n",
      "\u001b[?25hDownloading google_cloud_core-2.4.1-py2.py3-none-any.whl (29 kB)\n",
      "Downloading google_crc32c-1.5.0-cp39-cp39-macosx_10_9_universal2.whl (32 kB)\n",
      "Downloading google_resumable_media-2.7.1-py2.py3-none-any.whl (81 kB)\n",
      "\u001b[2K   \u001b[90m━━━━━━━━━━━━━━━━━━━━━━━━━━━━━━━━━━━━━━━━\u001b[0m \u001b[32m81.2/81.2 kB\u001b[0m \u001b[31m2.4 MB/s\u001b[0m eta \u001b[36m0:00:00\u001b[0m\n",
      "\u001b[?25hDownloading grpc_google_iam_v1-0.13.1-py2.py3-none-any.whl (24 kB)\n",
      "Downloading grpcio_status-1.62.2-py3-none-any.whl (14 kB)\n",
      "Downloading httptools-0.6.1-cp39-cp39-macosx_10_9_universal2.whl (152 kB)\n",
      "\u001b[2K   \u001b[90m━━━━━━━━━━━━━━━━━━━━━━━━━━━━━━━━━━━━━━━━\u001b[0m \u001b[32m152.9/152.9 kB\u001b[0m \u001b[31m5.9 MB/s\u001b[0m eta \u001b[36m0:00:00\u001b[0m\n",
      "\u001b[?25hDownloading jmespath-1.0.1-py3-none-any.whl (20 kB)\n",
      "Downloading jsonpatch-1.33-py2.py3-none-any.whl (12 kB)\n",
      "Downloading pfzy-0.3.4-py3-none-any.whl (8.5 kB)\n",
      "Downloading python_rapidjson-1.18-cp39-cp39-macosx_11_0_arm64.whl (209 kB)\n",
      "\u001b[2K   \u001b[90m━━━━━━━━━━━━━━━━━━━━━━━━━━━━━━━━━━━━━━━━\u001b[0m \u001b[32m209.4/209.4 kB\u001b[0m \u001b[31m6.1 MB/s\u001b[0m eta \u001b[36m0:00:00\u001b[0m\n",
      "\u001b[?25hDownloading s3transfer-0.10.2-py3-none-any.whl (82 kB)\n",
      "\u001b[2K   \u001b[90m━━━━━━━━━━━━━━━━━━━━━━━━━━━━━━━━━━━━━━━━\u001b[0m \u001b[32m82.7/82.7 kB\u001b[0m \u001b[31m6.3 MB/s\u001b[0m eta \u001b[36m0:00:00\u001b[0m\n",
      "\u001b[?25hDownloading uvloop-0.19.0-cp39-cp39-macosx_10_9_universal2.whl (1.5 MB)\n",
      "\u001b[2K   \u001b[90m━━━━━━━━━━━━━━━━━━━━━━━━━━━━━━━━━━━━━━━━\u001b[0m \u001b[32m1.5/1.5 MB\u001b[0m \u001b[31m4.4 MB/s\u001b[0m eta \u001b[36m0:00:00\u001b[0ma \u001b[36m0:00:01\u001b[0m\n",
      "\u001b[?25hDownloading coloredlogs-15.0.1-py2.py3-none-any.whl (46 kB)\n",
      "\u001b[2K   \u001b[90m━━━━━━━━━━━━━━━━━━━━━━━━━━━━━━━━━━━━━━━━\u001b[0m \u001b[32m46.0/46.0 kB\u001b[0m \u001b[31m3.2 MB/s\u001b[0m eta \u001b[36m0:00:00\u001b[0m\n",
      "\u001b[?25hDownloading pyproject_hooks-1.1.0-py3-none-any.whl (9.2 kB)\n",
      "Downloading types_urllib3-1.26.25.14-py3-none-any.whl (15 kB)\n",
      "Downloading asgiref-3.8.1-py3-none-any.whl (23 kB)\n",
      "Downloading humanfriendly-10.0-py2.py3-none-any.whl (86 kB)\n",
      "\u001b[2K   \u001b[90m━━━━━━━━━━━━━━━━━━━━━━━━━━━━━━━━━━━━━━━━\u001b[0m \u001b[32m86.8/86.8 kB\u001b[0m \u001b[31m5.8 MB/s\u001b[0m eta \u001b[36m0:00:00\u001b[0m\n",
      "\u001b[?25hBuilding wheels for collected packages: fastavro, pypika\n",
      "  Building wheel for fastavro (pyproject.toml) ... \u001b[?25ldone\n",
      "\u001b[?25h  Created wheel for fastavro: filename=fastavro-1.9.4-cp39-cp39-macosx_10_9_universal2.whl size=1039632 sha256=c0027898f06bc2dea924c25f3b7504cc4df432f414d2258128349ab2bf5d41a6\n",
      "  Stored in directory: /Users/ellie/Library/Caches/pip/wheels/fc/b1/73/b01eaf80e7465e17b65c335a32e4c5992247bcefd2c396e2b9\n",
      "  Building wheel for pypika (pyproject.toml) ... \u001b[?25ldone\n",
      "\u001b[?25h  Created wheel for pypika: filename=PyPika-0.48.9-py2.py3-none-any.whl size=53724 sha256=d670b4fe93d62dd296b31b26a31ec0a2272f08872a55a5ed1e7575b7f0776db5\n",
      "  Stored in directory: /Users/ellie/Library/Caches/pip/wheels/f7/02/64/d541eac67ec459309d1fb19e727f58ecf7ffb4a8bf42d4cfe5\n",
      "Successfully built fastavro pypika\n",
      "Installing collected packages: types-urllib3, pypika, monotonic, mmh3, uvloop, types-requests, sqlalchemy, python-rapidjson, pysbd, pyproject_hooks, pypdf, pulsar-client, proto-plus, pfzy, parameterized, packaging, orjson, opentelemetry-util-http, Mako, jsonpatch, jmespath, humanfriendly, httpx-sse, httptools, grpcio, google-crc32c, fastavro, docstring-parser, contextlib2, chroma-hnswlib, bcrypt, backoff, asgiref, tritonclient, schema, posthog, inquirerpy, grpcio-status, gptcache, google-resumable-media, google-auth, coloredlogs, clarifai-grpc, build, botocore, alembic, tokenizers, s3transfer, onnxruntime, langsmith, kubernetes, grpc-google-iam-v1, clarifai, opentelemetry-instrumentation-asgi, langchain-core, google-cloud-core, boto3, opentelemetry-instrumentation-fastapi, langchain-text-splitters, langchain-openai, google-cloud-storage, google-cloud-resource-manager, google-cloud-bigquery, cohere, langchain-cohere, langchain, google-cloud-aiplatform, chromadb, langchain-community, embedchain\n",
      "  Attempting uninstall: packaging\n",
      "    Found existing installation: packaging 23.1\n",
      "    Uninstalling packaging-23.1:\n",
      "      Successfully uninstalled packaging-23.1\n",
      "  Attempting uninstall: orjson\n",
      "    Found existing installation: orjson 3.9.10\n",
      "    Uninstalling orjson-3.9.10:\n",
      "      Successfully uninstalled orjson-3.9.10\n",
      "  Attempting uninstall: grpcio\n",
      "    Found existing installation: grpcio 1.56.2\n",
      "    Uninstalling grpcio-1.56.2:\n",
      "      Successfully uninstalled grpcio-1.56.2\n",
      "  Attempting uninstall: google-auth\n",
      "    Found existing installation: google-auth 2.22.0\n",
      "    Uninstalling google-auth-2.22.0:\n",
      "      Successfully uninstalled google-auth-2.22.0\n",
      "  Attempting uninstall: tokenizers\n",
      "    Found existing installation: tokenizers 0.13.3\n",
      "    Uninstalling tokenizers-0.13.3:\n",
      "      Successfully uninstalled tokenizers-0.13.3\n",
      "\u001b[31mERROR: pip's dependency resolver does not currently take into account all the packages that are installed. This behaviour is the source of the following dependency conflicts.\n",
      "tensorflow-macos 2.13.0 requires keras<2.14,>=2.13.1, which is not installed.\n",
      "tensorflow-macos 2.13.0 requires tensorboard<2.14,>=2.13, which is not installed.\n",
      "tensorflow-macos 2.13.0 requires tensorflow-estimator<2.14,>=2.13.0, which is not installed.\n",
      "chainlit 1.1.306 requires packaging<24.0,>=23.1, but you have packaging 24.1 which is incompatible.\n",
      "tensorflow-macos 2.13.0 requires numpy<=1.24.3,>=1.22, but you have numpy 1.26.4 which is incompatible.\n",
      "tensorflow-macos 2.13.0 requires typing-extensions<4.6.0,>=3.6.6, but you have typing-extensions 4.9.0 which is incompatible.\n",
      "transformers 4.31.0 requires tokenizers!=0.11.3,<0.14,>=0.11.1, but you have tokenizers 0.19.1 which is incompatible.\u001b[0m\u001b[31m\n",
      "\u001b[0mSuccessfully installed Mako-1.3.5 alembic-1.13.2 asgiref-3.8.1 backoff-2.2.1 bcrypt-4.1.3 boto3-1.34.139 botocore-1.34.139 build-1.2.1 chroma-hnswlib-0.7.3 chromadb-0.4.24 clarifai-10.5.3 clarifai-grpc-10.6.0 cohere-5.5.8 coloredlogs-15.0.1 contextlib2-21.6.0 docstring-parser-0.16 embedchain-0.1.115 fastavro-1.9.4 google-auth-2.31.0 google-cloud-aiplatform-1.58.0 google-cloud-bigquery-3.25.0 google-cloud-core-2.4.1 google-cloud-resource-manager-1.12.3 google-cloud-storage-2.17.0 google-crc32c-1.5.0 google-resumable-media-2.7.1 gptcache-0.1.43 grpc-google-iam-v1-0.13.1 grpcio-1.64.1 grpcio-status-1.62.2 httptools-0.6.1 httpx-sse-0.4.0 humanfriendly-10.0 inquirerpy-0.3.4 jmespath-1.0.1 jsonpatch-1.33 kubernetes-30.1.0 langchain-0.2.6 langchain-cohere-0.1.8 langchain-community-0.2.6 langchain-core-0.2.11 langchain-openai-0.1.14 langchain-text-splitters-0.2.2 langsmith-0.1.83 mmh3-4.1.0 monotonic-1.6 onnxruntime-1.18.1 opentelemetry-instrumentation-asgi-0.46b0 opentelemetry-instrumentation-fastapi-0.46b0 opentelemetry-util-http-0.46b0 orjson-3.10.6 packaging-24.1 parameterized-0.9.0 pfzy-0.3.4 posthog-3.5.0 proto-plus-1.24.0 pulsar-client-3.5.0 pypdf-4.2.0 pypika-0.48.9 pyproject_hooks-1.1.0 pysbd-0.3.4 python-rapidjson-1.18 s3transfer-0.10.2 schema-0.7.5 sqlalchemy-2.0.31 tokenizers-0.19.1 tritonclient-2.41.1 types-requests-2.31.0.6 types-urllib3-1.26.25.14 uvloop-0.19.0\n",
      "\n",
      "\u001b[1m[\u001b[0m\u001b[34;49mnotice\u001b[0m\u001b[1;39;49m]\u001b[0m\u001b[39;49m A new release of pip is available: \u001b[0m\u001b[31;49m23.3.1\u001b[0m\u001b[39;49m -> \u001b[0m\u001b[32;49m24.1.1\u001b[0m\n",
      "\u001b[1m[\u001b[0m\u001b[34;49mnotice\u001b[0m\u001b[1;39;49m]\u001b[0m\u001b[39;49m To update, run: \u001b[0m\u001b[32;49m/Library/Developer/CommandLineTools/usr/bin/python3 -m pip install --upgrade pip\u001b[0m\n",
      "Note: you may need to restart the kernel to use updated packages.\n"
     ]
    }
   ],
   "source": [
    "pip install embedchain"
   ]
  },
  {
   "cell_type": "markdown",
   "metadata": {},
   "source": [
    "## Flax <a class=\"anchor\" id=\"flax\"></a>"
   ]
  },
  {
   "cell_type": "markdown",
   "metadata": {},
   "source": [
    "[Flax Website](https://flax.readthedocs.io/en/latest/)"
   ]
  },
  {
   "cell_type": "code",
   "execution_count": 4,
   "metadata": {},
   "outputs": [
    {
     "name": "stdout",
     "output_type": "stream",
     "text": [
      "Defaulting to user installation because normal site-packages is not writeable\n",
      "Collecting flax\n",
      "  Downloading flax-0.8.5-py3-none-any.whl.metadata (10 kB)\n",
      "Requirement already satisfied: numpy>=1.22 in /Users/ellie/Library/Python/3.9/lib/python/site-packages (from flax) (1.26.4)\n",
      "Collecting jax>=0.4.27 (from flax)\n",
      "  Downloading jax-0.4.30-py3-none-any.whl.metadata (22 kB)\n",
      "Collecting msgpack (from flax)\n",
      "  Downloading msgpack-1.0.8-cp39-cp39-macosx_11_0_arm64.whl.metadata (9.1 kB)\n",
      "Collecting optax (from flax)\n",
      "  Downloading optax-0.2.2-py3-none-any.whl.metadata (8.1 kB)\n",
      "Collecting orbax-checkpoint (from flax)\n",
      "  Downloading orbax_checkpoint-0.5.20-py3-none-any.whl.metadata (1.8 kB)\n",
      "Collecting tensorstore (from flax)\n",
      "  Downloading tensorstore-0.1.63-cp39-cp39-macosx_11_0_arm64.whl.metadata (3.0 kB)\n",
      "Requirement already satisfied: rich>=11.1 in /Users/ellie/Library/Python/3.9/lib/python/site-packages (from flax) (13.7.0)\n",
      "Requirement already satisfied: typing-extensions>=4.2 in /Users/ellie/Library/Python/3.9/lib/python/site-packages (from flax) (4.9.0)\n",
      "Requirement already satisfied: PyYAML>=5.4.1 in /Users/ellie/Library/Python/3.9/lib/python/site-packages (from flax) (6.0.1)\n",
      "Collecting jaxlib<=0.4.30,>=0.4.27 (from jax>=0.4.27->flax)\n",
      "  Downloading jaxlib-0.4.30-cp39-cp39-macosx_11_0_arm64.whl.metadata (1.0 kB)\n",
      "Collecting ml-dtypes>=0.2.0 (from jax>=0.4.27->flax)\n",
      "  Downloading ml_dtypes-0.4.0-cp39-cp39-macosx_10_9_universal2.whl.metadata (20 kB)\n",
      "Requirement already satisfied: opt-einsum in /Users/ellie/Library/Python/3.9/lib/python/site-packages (from jax>=0.4.27->flax) (3.3.0)\n",
      "Requirement already satisfied: scipy>=1.9 in /Users/ellie/Library/Python/3.9/lib/python/site-packages (from jax>=0.4.27->flax) (1.11.2)\n",
      "Requirement already satisfied: importlib-metadata>=4.6 in /Users/ellie/Library/Python/3.9/lib/python/site-packages (from jax>=0.4.27->flax) (6.8.0)\n",
      "Requirement already satisfied: markdown-it-py>=2.2.0 in /Users/ellie/Library/Python/3.9/lib/python/site-packages (from rich>=11.1->flax) (3.0.0)\n",
      "Requirement already satisfied: pygments<3.0.0,>=2.13.0 in /Users/ellie/Library/Python/3.9/lib/python/site-packages (from rich>=11.1->flax) (2.15.1)\n",
      "Requirement already satisfied: absl-py>=0.7.1 in /Users/ellie/Library/Python/3.9/lib/python/site-packages (from optax->flax) (1.4.0)\n",
      "Collecting chex>=0.1.86 (from optax->flax)\n",
      "  Downloading chex-0.1.86-py3-none-any.whl.metadata (17 kB)\n",
      "Collecting etils[epath,epy] (from orbax-checkpoint->flax)\n",
      "  Downloading etils-1.5.2-py3-none-any.whl.metadata (6.3 kB)\n",
      "Requirement already satisfied: nest_asyncio in /Users/ellie/Library/Python/3.9/lib/python/site-packages (from orbax-checkpoint->flax) (1.5.6)\n",
      "Requirement already satisfied: protobuf in /Users/ellie/Library/Python/3.9/lib/python/site-packages (from orbax-checkpoint->flax) (4.23.4)\n",
      "Requirement already satisfied: toolz>=0.9.0 in /Users/ellie/Library/Python/3.9/lib/python/site-packages (from chex>=0.1.86->optax->flax) (0.12.0)\n",
      "Requirement already satisfied: zipp>=0.5 in /Users/ellie/Library/Python/3.9/lib/python/site-packages (from importlib-metadata>=4.6->jax>=0.4.27->flax) (3.16.2)\n",
      "Requirement already satisfied: mdurl~=0.1 in /Users/ellie/Library/Python/3.9/lib/python/site-packages (from markdown-it-py>=2.2.0->rich>=11.1->flax) (0.1.2)\n",
      "Requirement already satisfied: fsspec in /Users/ellie/Library/Python/3.9/lib/python/site-packages (from etils[epath,epy]->orbax-checkpoint->flax) (2023.6.0)\n",
      "Requirement already satisfied: importlib_resources in /Users/ellie/Library/Python/3.9/lib/python/site-packages (from etils[epath,epy]->orbax-checkpoint->flax) (6.0.0)\n",
      "Downloading flax-0.8.5-py3-none-any.whl (731 kB)\n",
      "\u001b[2K   \u001b[90m━━━━━━━━━━━━━━━━━━━━━━━━━━━━━━━━━━━━━━━━\u001b[0m \u001b[32m731.3/731.3 kB\u001b[0m \u001b[31m9.1 MB/s\u001b[0m eta \u001b[36m0:00:00\u001b[0m:00:01\u001b[0m0:01\u001b[0m\n",
      "\u001b[?25hDownloading jax-0.4.30-py3-none-any.whl (2.0 MB)\n",
      "\u001b[2K   \u001b[90m━━━━━━━━━━━━━━━━━━━━━━━━━━━━━━━━━━━━━━━━\u001b[0m \u001b[32m2.0/2.0 MB\u001b[0m \u001b[31m12.1 MB/s\u001b[0m eta \u001b[36m0:00:00\u001b[0ma \u001b[36m0:00:01\u001b[0m\n",
      "\u001b[?25hDownloading msgpack-1.0.8-cp39-cp39-macosx_11_0_arm64.whl (85 kB)\n",
      "\u001b[2K   \u001b[90m━━━━━━━━━━━━━━━━━━━━━━━━━━━━━━━━━━━━━━━━\u001b[0m \u001b[32m85.1/85.1 kB\u001b[0m \u001b[31m6.4 MB/s\u001b[0m eta \u001b[36m0:00:00\u001b[0m\n",
      "\u001b[?25hDownloading optax-0.2.2-py3-none-any.whl (223 kB)\n",
      "\u001b[2K   \u001b[90m━━━━━━━━━━━━━━━━━━━━━━━━━━━━━━━━━━━━━━━━\u001b[0m \u001b[32m223.7/223.7 kB\u001b[0m \u001b[31m9.3 MB/s\u001b[0m eta \u001b[36m0:00:00\u001b[0m\n",
      "\u001b[?25hDownloading orbax_checkpoint-0.5.20-py3-none-any.whl (222 kB)\n",
      "\u001b[2K   \u001b[90m━━━━━━━━━━━━━━━━━━━━━━━━━━━━━━━━━━━━━━━━\u001b[0m \u001b[32m222.2/222.2 kB\u001b[0m \u001b[31m9.4 MB/s\u001b[0m eta \u001b[36m0:00:00\u001b[0m\n",
      "\u001b[?25hDownloading tensorstore-0.1.63-cp39-cp39-macosx_11_0_arm64.whl (13.5 MB)\n",
      "\u001b[2K   \u001b[90m━━━━━━━━━━━━━━━━━━━━━━━━━━━━━━━━━━━━━━━━\u001b[0m \u001b[32m13.5/13.5 MB\u001b[0m \u001b[31m5.2 MB/s\u001b[0m eta \u001b[36m0:00:00\u001b[0m00:01\u001b[0m00:01\u001b[0m\n",
      "\u001b[?25hDownloading chex-0.1.86-py3-none-any.whl (98 kB)\n",
      "\u001b[2K   \u001b[90m━━━━━━━━━━━━━━━━━━━━━━━━━━━━━━━━━━━━━━━━\u001b[0m \u001b[32m98.2/98.2 kB\u001b[0m \u001b[31m5.2 MB/s\u001b[0m eta \u001b[36m0:00:00\u001b[0m\n",
      "\u001b[?25hDownloading jaxlib-0.4.30-cp39-cp39-macosx_11_0_arm64.whl (66.7 MB)\n",
      "\u001b[2K   \u001b[90m━━━━━━━━━━━━━━━━━━━━━━━━━━━━━━━━━━━━━━━━\u001b[0m \u001b[32m66.7/66.7 MB\u001b[0m \u001b[31m6.3 MB/s\u001b[0m eta \u001b[36m0:00:00\u001b[0m00:01\u001b[0m00:01\u001b[0m\n",
      "\u001b[?25hDownloading ml_dtypes-0.4.0-cp39-cp39-macosx_10_9_universal2.whl (390 kB)\n",
      "\u001b[2K   \u001b[90m━━━━━━━━━━━━━━━━━━━━━━━━━━━━━━━━━━━━━━━━\u001b[0m \u001b[32m390.9/390.9 kB\u001b[0m \u001b[31m8.1 MB/s\u001b[0m eta \u001b[36m0:00:00\u001b[0m:00:01\u001b[0m\n",
      "\u001b[?25hDownloading etils-1.5.2-py3-none-any.whl (140 kB)\n",
      "\u001b[2K   \u001b[90m━━━━━━━━━━━━━━━━━━━━━━━━━━━━━━━━━━━━━━━━\u001b[0m \u001b[32m140.6/140.6 kB\u001b[0m \u001b[31m7.3 MB/s\u001b[0m eta \u001b[36m0:00:00\u001b[0m\n",
      "\u001b[?25hInstalling collected packages: msgpack, ml-dtypes, etils, tensorstore, jaxlib, jax, orbax-checkpoint, chex, optax, flax\n",
      "Successfully installed chex-0.1.86 etils-1.5.2 flax-0.8.5 jax-0.4.30 jaxlib-0.4.30 ml-dtypes-0.4.0 msgpack-1.0.8 optax-0.2.2 orbax-checkpoint-0.5.20 tensorstore-0.1.63\n",
      "\n",
      "\u001b[1m[\u001b[0m\u001b[34;49mnotice\u001b[0m\u001b[1;39;49m]\u001b[0m\u001b[39;49m A new release of pip is available: \u001b[0m\u001b[31;49m23.3.1\u001b[0m\u001b[39;49m -> \u001b[0m\u001b[32;49m24.1.1\u001b[0m\n",
      "\u001b[1m[\u001b[0m\u001b[34;49mnotice\u001b[0m\u001b[1;39;49m]\u001b[0m\u001b[39;49m To update, run: \u001b[0m\u001b[32;49m/Library/Developer/CommandLineTools/usr/bin/python3 -m pip install --upgrade pip\u001b[0m\n",
      "Note: you may need to restart the kernel to use updated packages.\n"
     ]
    }
   ],
   "source": [
    "pip install flax"
   ]
  },
  {
   "cell_type": "markdown",
   "metadata": {},
   "source": [
    "## Gensim <a class=\"anchor\" id=\"gensim\"></a>"
   ]
  },
  {
   "cell_type": "markdown",
   "metadata": {},
   "source": [
    "[Gensim Website](https://radimrehurek.com/gensim/)"
   ]
  },
  {
   "cell_type": "code",
   "execution_count": null,
   "metadata": {},
   "outputs": [],
   "source": [
    "pip install gensim"
   ]
  },
  {
   "cell_type": "markdown",
   "metadata": {},
   "source": [
    "## GGML <a class=\"anchor\" id=\"ggml\"></a>"
   ]
  },
  {
   "cell_type": "markdown",
   "metadata": {},
   "source": [
    "[GGML Website](https://ggml.ai/)"
   ]
  },
  {
   "cell_type": "markdown",
   "metadata": {},
   "source": [
    "## Google AI <a class=\"anchor\" id=\"googleai\"></a>"
   ]
  },
  {
   "cell_type": "markdown",
   "metadata": {},
   "source": [
    "[Google AI Website](https://github.com/google-gemini/generative-ai-python)"
   ]
  },
  {
   "cell_type": "markdown",
   "metadata": {},
   "source": [
    "## Haystack <a class=\"anchor\" id=\"haystack\"></a>"
   ]
  },
  {
   "cell_type": "markdown",
   "metadata": {},
   "source": [
    "[Haystack Website](https://haystack.deepset.ai/)"
   ]
  },
  {
   "cell_type": "markdown",
   "metadata": {},
   "source": [
    "## Hugging Face <a class=\"anchor\" id=\"huggingface\"></a>"
   ]
  },
  {
   "cell_type": "markdown",
   "metadata": {},
   "source": [
    "[Hugging Face Website](https://huggingface.co/docs/transformers/index)"
   ]
  },
  {
   "cell_type": "code",
   "execution_count": null,
   "metadata": {},
   "outputs": [],
   "source": [
    "pip install transformers"
   ]
  },
  {
   "cell_type": "markdown",
   "metadata": {},
   "source": [
    "## Lamini <a class=\"anchor\" id=\"lamini\"></a>"
   ]
  },
  {
   "cell_type": "markdown",
   "metadata": {},
   "source": [
    "[Lamini Website](https://www.lamini.ai/)"
   ]
  },
  {
   "cell_type": "markdown",
   "metadata": {},
   "source": [
    "## LangChain <a class=\"anchor\" id=\"langchain\"></a>"
   ]
  },
  {
   "cell_type": "markdown",
   "metadata": {},
   "source": [
    "[LangChain Website](https://www.langchain.com/)"
   ]
  },
  {
   "cell_type": "markdown",
   "metadata": {},
   "source": [
    "## LiteLLM <a class=\"anchor\" id=\"litellm\"></a>"
   ]
  },
  {
   "cell_type": "markdown",
   "metadata": {},
   "source": [
    "[LiteLLM Website](https://github.com/BerriAI/litellm)"
   ]
  },
  {
   "cell_type": "markdown",
   "metadata": {},
   "source": [
    "## LlamaIndex <a class=\"anchor\" id=\"llamaindex\"></a>"
   ]
  },
  {
   "cell_type": "markdown",
   "metadata": {},
   "source": [
    "[LlamaIndex Website](https://www.llamaindex.ai/)"
   ]
  },
  {
   "cell_type": "markdown",
   "metadata": {},
   "source": [
    "## MLC LLM <a class=\"anchor\" id=\"mlcllm\"></a>"
   ]
  },
  {
   "cell_type": "markdown",
   "metadata": {},
   "source": [
    "[MLC LLM Website](https://llm.mlc.ai/)"
   ]
  },
  {
   "cell_type": "markdown",
   "metadata": {},
   "source": [
    "## NLTK <a class=\"anchor\" id=\"nltk\"></a>"
   ]
  },
  {
   "cell_type": "markdown",
   "metadata": {},
   "source": [
    "[NLTK Website](https://www.nltk.org/)"
   ]
  },
  {
   "cell_type": "markdown",
   "metadata": {},
   "source": [
    "## OpenAI <a class=\"anchor\" id=\"openai\"></a>"
   ]
  },
  {
   "cell_type": "markdown",
   "metadata": {},
   "source": [
    "[OpenAI Website](https://github.com/openai/openai-python)"
   ]
  },
  {
   "cell_type": "markdown",
   "metadata": {},
   "source": [
    "## Pattern <a class=\"anchor\" id=\"pattern\"></a>"
   ]
  },
  {
   "cell_type": "markdown",
   "metadata": {},
   "source": [
    "[Pattern Website](https://github.com/clips/pattern)"
   ]
  },
  {
   "cell_type": "markdown",
   "metadata": {},
   "source": [
    "## Polyglot <a class=\"anchor\" id=\"polyglot\"></a>"
   ]
  },
  {
   "cell_type": "markdown",
   "metadata": {},
   "source": [
    "[Polyglot Website](https://polyglot.readthedocs.io/en/latest/)"
   ]
  },
  {
   "cell_type": "markdown",
   "metadata": {},
   "source": [
    "## Promptify <a class=\"anchor\" id=\"promptify\"></a>"
   ]
  },
  {
   "cell_type": "markdown",
   "metadata": {},
   "source": [
    "[Promptify Website](https://promptify.readthedocs.io/en/latest/)"
   ]
  },
  {
   "cell_type": "markdown",
   "metadata": {},
   "source": [
    "## PromptBench <a class=\"anchor\" id=\"promptbench\"></a>"
   ]
  },
  {
   "cell_type": "markdown",
   "metadata": {},
   "source": [
    "[PromptBench Website](https://github.com/microsoft/promptbench)"
   ]
  },
  {
   "cell_type": "markdown",
   "metadata": {},
   "source": [
    "## spaCy <a class=\"anchor\" id=\"spacy\"></a>"
   ]
  },
  {
   "cell_type": "markdown",
   "metadata": {},
   "source": [
    "[spaCy Website](https://spacy.io/)"
   ]
  },
  {
   "cell_type": "code",
   "execution_count": null,
   "metadata": {},
   "outputs": [],
   "source": [
    "pip install spacy"
   ]
  },
  {
   "cell_type": "code",
   "execution_count": null,
   "metadata": {},
   "outputs": [],
   "source": [
    "!python -m spacy download en_core_web_sm"
   ]
  },
  {
   "cell_type": "markdown",
   "metadata": {},
   "source": [
    "## TextBlob <a class=\"anchor\" id=\"textblob\"></a>"
   ]
  },
  {
   "cell_type": "markdown",
   "metadata": {},
   "source": [
    "[TextBlob Website](https://textblob.readthedocs.io/en/dev/)"
   ]
  },
  {
   "cell_type": "markdown",
   "metadata": {},
   "source": [
    "## Unstructured <a class=\"anchor\" id=\"unstructured\"></a>"
   ]
  },
  {
   "cell_type": "markdown",
   "metadata": {},
   "source": [
    "[Unstructured Website](https://pypi.org/project/unstructured/)"
   ]
  }
 ],
 "metadata": {
  "kernelspec": {
   "display_name": "base",
   "language": "python",
   "name": "python3"
  },
  "language_info": {
   "codemirror_mode": {
    "name": "ipython",
    "version": 3
   },
   "file_extension": ".py",
   "mimetype": "text/x-python",
   "name": "python",
   "nbconvert_exporter": "python",
   "pygments_lexer": "ipython3",
   "version": "3.9.6"
  }
 },
 "nbformat": 4,
 "nbformat_minor": 2
}
